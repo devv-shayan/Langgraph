{
  "cells": [
    {
      "cell_type": "markdown",
      "id": "f4169bfb-769a-4db3-833e-c827f19024b2",
      "metadata": {
        "id": "f4169bfb-769a-4db3-833e-c827f19024b2"
      },
      "source": [
        "# Parallel node execution\n",
        "\n",
        "## Review\n",
        "\n",
        "In module 3, we went in-depth on `human-in-the loop`, showing 3 common use-cases:\n",
        "\n",
        "(1) `Approval` - We can interrupt our agent, surface state to a user, and allow the user to accept an action\n",
        "\n",
        "(2) `Debugging` - We can rewind the graph to reproduce or avoid issues\n",
        "\n",
        "(3) `Editing` - You can modify the state\n",
        "\n",
        "## Goals\n",
        "\n",
        "This module will build on `human-in-the-loop` as well as the `memory` concepts discussed in module 2.\n",
        "\n",
        "We will dive into `multi-agent` workflows, and build up to a multi-agent research assistant that ties together all of the modules from this course.\n",
        "\n",
        "To build this multi-agent research assistant, we'll first discuss a few LangGraph controllability topics.\n",
        "\n",
        "We'll start with [parallelization](https://langchain-ai.github.io/langgraph/how-tos/branching/#how-to-create-branches-for-parallel-node-execution).\n",
        "\n",
        "## Fan out and fan in\n",
        "\n",
        "Let's build a simple linear graph that over-writes the state at each step."
      ]
    },
    {
      "cell_type": "code",
      "execution_count": 24,
      "id": "618eab5c-4ef7-4273-8e0b-a9c847897ed7",
      "metadata": {
        "id": "618eab5c-4ef7-4273-8e0b-a9c847897ed7"
      },
      "outputs": [
        {
          "name": "stderr",
          "output_type": "stream",
          "text": [
            "\n",
            "[notice] A new release of pip is available: 24.2 -> 24.3.1\n",
            "[notice] To update, run: python.exe -m pip install --upgrade pip\n"
          ]
        }
      ],
      "source": [
        "%%capture --no-stderr\n",
        "%pip install -U  langgraph tavily-python wikipedia langchain_google_genai langchain_community langgraph_sdk"
      ]
    },
    {
      "cell_type": "code",
      "execution_count": null,
      "id": "31bbec0d",
      "metadata": {
        "colab": {
          "base_uri": "https://localhost:8080/"
        },
        "id": "31bbec0d",
        "outputId": "5a6a8a75-a5cd-4caf-de41-74bd1e5d96c9"
      },
      "outputs": [],
      "source": [
        "import os\n",
        "from dotenv import load_dotenv, dotenv_values\n",
        "\n",
        "# Load environment variables from .env.example\n",
        "load_dotenv(\"../.env.example\")\n",
        "\n",
        "def debug_api_key(key_name):\n",
        "    print(f\"\\nDebugging {key_name}:\")\n",
        "    \n",
        "    # Check environment variable\n",
        "    env_value = os.getenv(key_name)\n",
        "    print(f\"1. Value from os.getenv('{key_name}'): {env_value}\")\n",
        "    \n",
        "    # Check .env.example file directly\n",
        "    config = dotenv_values(\"../.env.example\")\n",
        "    dotenv_value = config.get(key_name)\n",
        "    print(f\"2. Value from .env.example: {dotenv_value}\")\n",
        "    \n",
        "    # Read .env.example file manually\n",
        "    try:\n",
        "        with open(\"../.env.example\", 'r') as f:\n",
        "            content = f.read()\n",
        "            print(f\"3. Content of .env.example:\")\n",
        "            print(content)\n",
        "    except FileNotFoundError:\n",
        "        print(\"3. Error: .env.example file not found\")\n",
        "    \n",
        "    # Try to parse the value manually\n",
        "    if dotenv_value:\n",
        "        cleaned_value = dotenv_value.strip().strip(\"'\").strip('\"')\n",
        "        print(f\"4. Cleaned value: {cleaned_value}\")\n",
        "        \n",
        "        # Set the environment variable\n",
        "        os.environ[key_name] = cleaned_value\n",
        "        print(f\"5. Environment variable set. New value: {os.getenv(key_name)}\")\n",
        "    else:\n",
        "        print(\"4. Unable to parse value from .env.example\")\n",
        "\n",
        "# Debug both API keys\n",
        "debug_api_key('TAVILY_API_KEY')\n",
        "debug_api_key('GOOGLE_API_KEY')\n",
        "debug_api_key('LANGCHAIN_API_KEY')\n",
        "\n",
        "print(\"\\nFinal environment variable values:\")\n",
        "print(f\"TAVILY_API_KEY:{os.getenv('TAVILY_API_KEY')}\")\n",
        "print(f\"GOOGLE_API_KEY: {os.getenv('GOOGLE_API_KEY')}\")\n",
        "print(f\"LANGCHAIN_API_KEY: {os.getenv('LANGCHAIN_API_KEY')}\")"
      ]
    },
    {
      "cell_type": "code",
      "execution_count": 7,
      "id": "a8e8bcf6",
      "metadata": {},
      "outputs": [],
      "source": [
        "os.environ[\"GOOGLE_API_KEY\"] = os.environ.get('GOOGLE_API_KEY')\n",
        "os.environ[\"LANGCHAIN_API_KEY\"] = os.environ.get('LANGCHAIN_API_KEY')\n",
        "os.environ[\"LANGCHAIN_TRACING_V2\"] = \"true\"\n",
        "os.environ[\"LANGCHAIN_ENDPOINT\"]=\"https://api.smith.langchain.com\"\n",
        "os.environ[\"LANGCHAIN_PROJECT\"] = \"langraphlearningMODULE4 (1)\"\n"
      ]
    },
    {
      "cell_type": "markdown",
      "id": "71c6aa82",
      "metadata": {},
      "source": [
        "\n",
        "\n",
        "\n",
        "\n",
        "# Understanding Python's Special Methods: `__init__` and `__call__`\n",
        "\n",
        "## 1. `__init__`: The Constructor\n",
        "\n",
        "### Purpose\n",
        "- Special method in Python called the constructor\n",
        "- Automatically invoked when creating an object from a class\n",
        "- Main purpose: Initialize the object's initial state\n",
        "\n",
        "### Example Code\n",
        "```python\n",
        "class ReturnNodeValue:\n",
        "    def __init__(self, node_secret: str):\n",
        "        self._value = node_secret\n",
        "```\n",
        "\n",
        "### How It Works\n",
        "When you create an object:\n",
        "```python\n",
        "node_a = ReturnNodeValue(\"I'm A\")\n",
        "```\n",
        "\n",
        "#### Parameters\n",
        "- `node_secret`: The value passed during object creation\n",
        "- `self`: Reference to the current instance of the class\n",
        "\n",
        "#### Inside `__init__`\n",
        "```python\n",
        "self._value = node_secret\n",
        "```\n",
        "- Creates new attribute `_value` on the object\n",
        "- Underscore (_) suggests internal use within class\n",
        "- Stores passed value (e.g., \"I'm A\") in `self._value`\n",
        "\n",
        "#### End Result\n",
        "```python\n",
        "node_a._value  # Contains \"I'm A\"\n",
        "```\n",
        "\n",
        "### Analogy\n",
        "Think of `__init__` like unpacking a new device - it's the setup process, putting in batteries, and getting it ready to work.\n",
        "\n",
        "## 2. `__call__`: Making Objects Callable\n",
        "\n",
        "### Purpose\n",
        "- Makes an object callable like a function\n",
        "- Allows calling the object itself, not just its methods\n",
        "\n",
        "### Example Code\n",
        "```python\n",
        "def __call__(self, state: State) -> Any:\n",
        "    print(f\"Adding {self._value} to {state['state']}\")\n",
        "    return {\"state\": [self._value]}\n",
        "```\n",
        "\n",
        "### How It Works\n",
        "Usage example:\n",
        "```python\n",
        "node_a({\"state\": \"initial\"})\n",
        "```\n",
        "\n",
        "#### Inside `__call__`\n",
        "- `self`: References object instance\n",
        "- `state`: Argument passed when object is called\n",
        "- Prints status message\n",
        "- Returns modified state dictionary\n",
        "\n",
        "#### Output Example\n",
        "```\n",
        "Adding I'm A to initial\n",
        "```\n",
        "\n",
        "#### Return Value\n",
        "```python\n",
        "{\"state\": [\"I'm A\"]}\n",
        "```\n",
        "\n",
        "### Complete Example\n",
        "```python\n",
        "class ReturnNodeValue:\n",
        "    def __init__(self, node_secret: str):\n",
        "        self._value = node_secret  # Store the value when object is created\n",
        "\n",
        "    def __call__(self, state: dict):\n",
        "        # Runs when object is called like a function\n",
        "        print(f\"Adding {self._value} to {state['state']}\")\n",
        "        return {\"state\": [self._value]}  # Modify and return state\n",
        "\n",
        "# Create and use object\n",
        "node_a = ReturnNodeValue(\"I'm A\")\n",
        "new_state = node_a({\"state\": \"initial\"})\n",
        "# Prints: Adding I'm A to initial\n",
        "# Returns: {\"state\": [\"I'm A\"]}\n",
        "```\n",
        "\n",
        "## Key Differences\n",
        "\n",
        "1. **`__init__`**\n",
        "   - Runs once during object creation\n",
        "   - Sets up initial state\n",
        "   - Called automatically when instantiating\n",
        "\n",
        "2. **`__call__`**\n",
        "   - Runs each time object is called as function\n",
        "   - Performs operation with stored state\n",
        "   - Called manually by using object like function\n",
        "\n",
        "### Analogy\n",
        "If `__init__` is setting up a device, `__call__` is like pressing its button to perform its function."
      ]
    },
    {
      "cell_type": "code",
      "execution_count": 27,
      "id": "1dd77093-1794-4bd7-8c57-58f59a74c20b",
      "metadata": {
        "colab": {
          "base_uri": "https://localhost:8080/",
          "height": 548
        },
        "id": "1dd77093-1794-4bd7-8c57-58f59a74c20b",
        "outputId": "ae54637d-3cf4-48ed-801c-8f3a9a5f962d"
      },
      "outputs": [
        {
          "data": {
            "image/jpeg": "[encoded data removed]",
            "text/plain": [
              "<IPython.core.display.Image object>"
            ]
          },
          "metadata": {},
          "output_type": "display_data"
        }
      ],
      "source": [
        "from IPython.display import Image, display\n",
        "\n",
        "from typing import Any\n",
        "from typing_extensions import TypedDict\n",
        "\n",
        "from langgraph.graph import StateGraph, START, END\n",
        "from langgraph.graph.state import CompiledStateGraph\n",
        "\n",
        "class State(TypedDict):\n",
        "    # The operator.add reducer fn makes this append-only\n",
        "    state: str\n",
        "\n",
        "class ReturnNodeValue:\n",
        "    def __init__(self, node_secret: str):\n",
        "        self._value = node_secret\n",
        "\n",
        "    def __call__(self, state: State) -> Any:\n",
        "        print(f\"Adding {self._value} to {state['state']}\")\n",
        "        print(f\"Passing Value {self._value}\")\n",
        "        print(f\"State Value {state['state']}\")\n",
        "        return {\"state\": [self._value]}\n",
        "\n",
        "# Add nodes\n",
        "builder: StateGraph = StateGraph(State)\n",
        "\n",
        "# Initialize each node with node_secret\n",
        "builder.add_node(\"a\", ReturnNodeValue(\"I'm A\"))\n",
        "builder.add_node(\"b\", ReturnNodeValue(\"I'm B\"))\n",
        "builder.add_node(\"c\", ReturnNodeValue(\"I'm C\"))\n",
        "builder.add_node(\"d\", ReturnNodeValue(\"I'm D\"))\n",
        "\n",
        "# Flow\n",
        "builder.add_edge(START, \"a\")\n",
        "builder.add_edge(\"a\", \"b\")\n",
        "builder.add_edge(\"b\", \"c\")\n",
        "builder.add_edge(\"c\", \"d\")\n",
        "builder.add_edge(\"d\", END)\n",
        "graph: CompiledStateGraph = builder.compile()\n",
        "\n",
        "display(Image(graph.get_graph().draw_mermaid_png()))"
      ]
    },
    {
      "cell_type": "markdown",
      "id": "bdd027d3-ef9f-4d43-b190-e9f07d521e18",
      "metadata": {
        "id": "bdd027d3-ef9f-4d43-b190-e9f07d521e18"
      },
      "source": [
        "We over-write state, as expected."
      ]
    },
    {
      "cell_type": "code",
      "execution_count": 9,
      "id": "bf260088-90d5-45b2-93ab-42f241560840",
      "metadata": {
        "colab": {
          "base_uri": "https://localhost:8080/"
        },
        "id": "bf260088-90d5-45b2-93ab-42f241560840",
        "outputId": "b0d02d71-a078-4659-e360-d493930979f8"
      },
      "outputs": [
        {
          "name": "stdout",
          "output_type": "stream",
          "text": [
            "Adding I'm A to []\n",
            "Passing Value I'm A\n",
            "State Value []\n",
            "Adding I'm B to [\"I'm A\"]\n",
            "Passing Value I'm B\n",
            "State Value [\"I'm A\"]\n",
            "Adding I'm C to [\"I'm B\"]\n",
            "Passing Value I'm C\n",
            "State Value [\"I'm B\"]\n",
            "Adding I'm D to [\"I'm C\"]\n",
            "Passing Value I'm D\n",
            "State Value [\"I'm C\"]\n"
          ]
        },
        {
          "data": {
            "text/plain": [
              "{'state': [\"I'm D\"]}"
            ]
          },
          "execution_count": 9,
          "metadata": {},
          "output_type": "execute_result"
        }
      ],
      "source": [
        "graph.invoke({\"state\": []})"
      ]
    },
    {
      "cell_type": "markdown",
      "id": "a9dec27d-dc43-4088-beb2-53ad090d2971",
      "metadata": {
        "id": "a9dec27d-dc43-4088-beb2-53ad090d2971"
      },
      "source": [
        "Now, let's run `b` and `c` in parallel.\n",
        "\n",
        "And then run `d`.\n",
        "\n",
        "We can do this easily with fan-out from `a` to `b` and `c`, and then fan-in to `d`.\n",
        "\n",
        "The the state updates are applied at the end of each step.\n",
        "\n",
        "Let's run it."
      ]
    },
    {
      "cell_type": "code",
      "execution_count": 10,
      "id": "8fdeaaab-a8c3-470f-89ef-9cf0a2760667",
      "metadata": {
        "colab": {
          "base_uri": "https://localhost:8080/",
          "height": 449
        },
        "id": "8fdeaaab-a8c3-470f-89ef-9cf0a2760667",
        "outputId": "4c3c6e4a-c8b6-435e-87b0-734c02ca2c11"
      },
      "outputs": [
        {
          "data": {
            "image/jpeg": "[encoded data removed]",
            "text/plain": [
              "<IPython.core.display.Image object>"
            ]
          },
          "metadata": {},
          "output_type": "display_data"
        }
      ],
      "source": [
        "builder: StateGraph = StateGraph(State)\n",
        "\n",
        "# Initialize each node with node_secret\n",
        "builder.add_node(\"a\", ReturnNodeValue(\"I'm A\"))\n",
        "builder.add_node(\"b\", ReturnNodeValue(\"I'm B\"))\n",
        "builder.add_node(\"c\", ReturnNodeValue(\"I'm C\"))\n",
        "builder.add_node(\"d\", ReturnNodeValue(\"I'm D\"))\n",
        "\n",
        "# Flow\n",
        "builder.add_edge(START, \"a\")\n",
        "builder.add_edge(\"a\", \"b\")\n",
        "builder.add_edge(\"a\", \"c\")\n",
        "builder.add_edge(\"b\", \"d\")\n",
        "builder.add_edge(\"c\", \"d\")\n",
        "builder.add_edge(\"d\", END)\n",
        "graph: CompiledStateGraph = builder.compile()\n",
        "\n",
        "display(Image(graph.get_graph().draw_mermaid_png()))"
      ]
    },
    {
      "cell_type": "markdown",
      "id": "35238fde-0230-4ae8-9200-158a8835c4f1",
      "metadata": {
        "id": "35238fde-0230-4ae8-9200-158a8835c4f1"
      },
      "source": [
        "**We see an error**!\n",
        "\n",
        "This is because both `b` and `c` are writing to the same state key / channel in the same step."
      ]
    },
    {
      "cell_type": "code",
      "execution_count": 11,
      "id": "9048b041-6849-4f09-9811-6b7a80f67859",
      "metadata": {
        "colab": {
          "base_uri": "https://localhost:8080/"
        },
        "id": "9048b041-6849-4f09-9811-6b7a80f67859",
        "outputId": "5d32b2cb-3b84-4070-b67d-fa2f8695998d"
      },
      "outputs": [
        {
          "name": "stdout",
          "output_type": "stream",
          "text": [
            "Adding I'm A to []\n",
            "Passing Value I'm A\n",
            "State Value []\n",
            "Adding I'm B to [\"I'm A\"]\n",
            "Passing Value I'm B\n",
            "State Value [\"I'm A\"]\n",
            "Adding I'm C to [\"I'm A\"]\n",
            "Passing Value I'm C\n",
            "State Value [\"I'm A\"]\n",
            "An error occurred: At key 'state': Can receive only one value per step. Use an Annotated key to handle multiple values.\n",
            "For troubleshooting, visit: https://python.langchain.com/docs/troubleshooting/errors/INVALID_CONCURRENT_GRAPH_UPDATE\n"
          ]
        }
      ],
      "source": [
        "from langgraph.errors import InvalidUpdateError\n",
        "try:\n",
        "    graph.invoke({\"state\": []})\n",
        "except InvalidUpdateError as e:\n",
        "    print(f\"An error occurred: {e}\")"
      ]
    },
    {
      "cell_type": "markdown",
      "id": "64cc329d-59fa-4c26-adcf-9122a824955d",
      "metadata": {
        "id": "64cc329d-59fa-4c26-adcf-9122a824955d"
      },
      "source": [
        "When using fan out, we need to be sure that we are using a reducer if steps are writing to the same the channel / key.\n",
        "\n",
        "As we touched on in Module 2, `operator.add` is a function from Python's built-in operator module.\n",
        "\n",
        "When `operator.add` is applied to lists, it performs list concatenation."
      ]
    },
    {
      "cell_type": "code",
      "execution_count": 12,
      "id": "8f1292ac-510a-4801-b2a3-e2c6d2d9582a",
      "metadata": {
        "colab": {
          "base_uri": "https://localhost:8080/",
          "height": 449
        },
        "id": "8f1292ac-510a-4801-b2a3-e2c6d2d9582a",
        "outputId": "e2056b50-6932-43ea-c389-60262dae1cd1"
      },
      "outputs": [
        {
          "data": {
            "image/jpeg": "[encoded data removed]",
            "text/plain": [
              "<IPython.core.display.Image object>"
            ]
          },
          "metadata": {},
          "output_type": "display_data"
        }
      ],
      "source": [
        "import operator\n",
        "from typing import Annotated\n",
        "\n",
        "class State(TypedDict):\n",
        "    # The operator.add reducer fn makes this append-only\n",
        "    state: Annotated[list, operator.add]\n",
        "\n",
        "# Add nodes\n",
        "builder: StateGraph = StateGraph(State)\n",
        "\n",
        "# Initialize each node with node_secret\n",
        "builder.add_node(\"a\", ReturnNodeValue(\"I'm A\"))\n",
        "builder.add_node(\"b\", ReturnNodeValue(\"I'm B\"))\n",
        "builder.add_node(\"c\", ReturnNodeValue(\"I'm C\"))\n",
        "builder.add_node(\"d\", ReturnNodeValue(\"I'm D\"))\n",
        "\n",
        "# Flow\n",
        "builder.add_edge(START, \"a\")\n",
        "builder.add_edge(\"a\", \"b\")\n",
        "builder.add_edge(\"a\", \"c\")\n",
        "builder.add_edge(\"b\", \"d\")\n",
        "builder.add_edge(\"c\", \"d\")\n",
        "builder.add_edge(\"d\", END)\n",
        "graph: CompiledStateGraph = builder.compile()\n",
        "\n",
        "display(Image(graph.get_graph().draw_mermaid_png()))"
      ]
    },
    {
      "cell_type": "code",
      "execution_count": 13,
      "id": "ffbad231-fc1d-49b1-a9fc-ed9153fa3977",
      "metadata": {
        "colab": {
          "base_uri": "https://localhost:8080/"
        },
        "id": "ffbad231-fc1d-49b1-a9fc-ed9153fa3977",
        "outputId": "84334b9f-21f5-413d-b6de-0f1c8956dc8c"
      },
      "outputs": [
        {
          "name": "stdout",
          "output_type": "stream",
          "text": [
            "Adding I'm A to []\n",
            "Passing Value I'm A\n",
            "State Value []\n",
            "Adding I'm B to [\"I'm A\"]\n",
            "Passing Value I'm B\n",
            "State Value [\"I'm A\"]\n",
            "Adding I'm C to [\"I'm A\"]\n",
            "Passing Value I'm C\n",
            "State Value [\"I'm A\"]\n",
            "Adding I'm D to [\"I'm A\", \"I'm B\", \"I'm C\"]\n",
            "Passing Value I'm D\n",
            "State Value [\"I'm A\", \"I'm B\", \"I'm C\"]\n"
          ]
        },
        {
          "data": {
            "text/plain": [
              "{'state': [\"I'm A\", \"I'm B\", \"I'm C\", \"I'm D\"]}"
            ]
          },
          "execution_count": 13,
          "metadata": {},
          "output_type": "execute_result"
        }
      ],
      "source": [
        "graph.invoke({\"state\": []})"
      ]
    },
    {
      "cell_type": "markdown",
      "id": "bdf5baa2-cecd-44b6-b0c4-d258340783f8",
      "metadata": {
        "id": "bdf5baa2-cecd-44b6-b0c4-d258340783f8"
      },
      "source": [
        "Now we see that we append to state for the updates made in parallel by `b` and `c`."
      ]
    },
    {
      "cell_type": "markdown",
      "id": "ed6fc7c7-198d-41be-867f-e77c93ba3217",
      "metadata": {
        "id": "ed6fc7c7-198d-41be-867f-e77c93ba3217"
      },
      "source": [
        "## Waiting for nodes to finish\n",
        "\n",
        "Now, lets consider a case where one parallel path has more steps than the other one."
      ]
    },
    {
      "cell_type": "code",
      "execution_count": 14,
      "id": "f50b5d4f-dd39-4c22-b623-e0abc23f9144",
      "metadata": {
        "colab": {
          "base_uri": "https://localhost:8080/",
          "height": 548
        },
        "id": "f50b5d4f-dd39-4c22-b623-e0abc23f9144",
        "outputId": "f8c4ad39-3585-4e00-c24b-22eeea3acfc5"
      },
      "outputs": [
        {
          "data": {
            "image/jpeg": "[encoded data removed]",
            "text/plain": [
              "<IPython.core.display.Image object>"
            ]
          },
          "metadata": {},
          "output_type": "display_data"
        }
      ],
      "source": [
        "builder: StateGraph = StateGraph(State)\n",
        "\n",
        "# Initialize each node with node_secret\n",
        "builder.add_node(\"a\", ReturnNodeValue(\"I'm A\"))\n",
        "builder.add_node(\"b\", ReturnNodeValue(\"I'm B\"))\n",
        "builder.add_node(\"b2\", ReturnNodeValue(\"I'm B2\"))\n",
        "builder.add_node(\"c\", ReturnNodeValue(\"I'm C\"))\n",
        "builder.add_node(\"d\", ReturnNodeValue(\"I'm D\"))\n",
        "\n",
        "# Flow\n",
        "builder.add_edge(START, \"a\")\n",
        "builder.add_edge(\"a\", \"b\")\n",
        "builder.add_edge(\"a\", \"c\")\n",
        "builder.add_edge(\"b\", \"b2\")\n",
        "builder.add_edge([\"b2\", \"c\"], \"d\")\n",
        "builder.add_edge(\"d\", END)\n",
        "graph: CompiledStateGraph = builder.compile()\n",
        "\n",
        "display(Image(graph.get_graph().draw_mermaid_png()))"
      ]
    },
    {
      "cell_type": "markdown",
      "id": "11640e6f-ac62-4ad4-89d9-7f6f9b56bf7a",
      "metadata": {
        "id": "11640e6f-ac62-4ad4-89d9-7f6f9b56bf7a"
      },
      "source": [
        "In this case, `b`, `b2`, and `c` are all part of the same step.\n",
        "\n",
        "The graph will wait for all of these to be completed before proceeding to step `d`."
      ]
    },
    {
      "cell_type": "code",
      "execution_count": 15,
      "id": "fafda930-e75b-410f-ba93-eb5fc0219303",
      "metadata": {
        "colab": {
          "base_uri": "https://localhost:8080/"
        },
        "id": "fafda930-e75b-410f-ba93-eb5fc0219303",
        "outputId": "9f806b07-1bac-4fdc-bd02-5ad8b707ed04"
      },
      "outputs": [
        {
          "name": "stdout",
          "output_type": "stream",
          "text": [
            "Adding I'm A to []\n",
            "Passing Value I'm A\n",
            "State Value []\n",
            "Adding I'm B to [\"I'm A\"]\n",
            "Passing Value I'm B\n",
            "State Value [\"I'm A\"]\n",
            "Adding I'm C to [\"I'm A\"]\n",
            "Passing Value I'm C\n",
            "State Value [\"I'm A\"]\n",
            "Adding I'm B2 to [\"I'm A\", \"I'm B\", \"I'm C\"]\n",
            "Passing Value I'm B2\n",
            "State Value [\"I'm A\", \"I'm B\", \"I'm C\"]\n",
            "Adding I'm D to [\"I'm A\", \"I'm B\", \"I'm C\", \"I'm B2\"]\n",
            "Passing Value I'm D\n",
            "State Value [\"I'm A\", \"I'm B\", \"I'm C\", \"I'm B2\"]\n"
          ]
        },
        {
          "data": {
            "text/plain": [
              "{'state': [\"I'm A\", \"I'm B\", \"I'm C\", \"I'm B2\", \"I'm D\"]}"
            ]
          },
          "execution_count": 15,
          "metadata": {},
          "output_type": "execute_result"
        }
      ],
      "source": [
        "graph.invoke({\"state\": []})"
      ]
    },
    {
      "cell_type": "markdown",
      "id": "6610a2e3-b053-47e8-bf4e-0968dfaa0a5d",
      "metadata": {
        "id": "6610a2e3-b053-47e8-bf4e-0968dfaa0a5d"
      },
      "source": [
        "## Setting the order of state updates\n",
        "\n",
        "However, within each step we don't have specific control over the order of the state updates!\n",
        "\n",
        "In simple terms, it is a deterministic order determined by LangGraph based upon graph topology that **we do not control**.\n",
        "\n",
        "Above, we see that `c` is added before `b2`.\n",
        "\n",
        "However, we can use a custom reducer to customize this e.g., sort state updates."
      ]
    },
    {
      "cell_type": "code",
      "execution_count": 20,
      "id": "24788e73-0950-432e-ad32-7987ea076529",
      "metadata": {
        "colab": {
          "base_uri": "https://localhost:8080/",
          "height": 548
        },
        "id": "24788e73-0950-432e-ad32-7987ea076529",
        "outputId": "5c72ffdb-4e48-4f36-d9b6-64b093306a88"
      },
      "outputs": [
        {
          "data": {
            "image/jpeg": "[encoded data removed]",
            "text/plain": [
              "<IPython.core.display.Image object>"
            ]
          },
          "metadata": {},
          "output_type": "display_data"
        }
      ],
      "source": [
        "def sorting_reducer(left, right):\n",
        "    \"\"\" Combines and sorts the values in a list\"\"\"\n",
        "    if not isinstance(left, list):\n",
        "        left = [left]\n",
        "\n",
        "    if not isinstance(right, list):\n",
        "        right = [right]\n",
        "\n",
        "    return sorted(left + right, reverse=False)\n",
        "\n",
        "class State(TypedDict):\n",
        "    # sorting_reducer will sort the values in state\n",
        "    state: Annotated[list, sorting_reducer]\n",
        "\n",
        "# Add nodes\n",
        "builder: StateGraph = StateGraph(State)\n",
        "\n",
        "# Initialize each node with node_secret\n",
        "builder.add_node(\"a\", ReturnNodeValue(\"I'm A\"))\n",
        "builder.add_node(\"b\", ReturnNodeValue(\"I'm B\"))\n",
        "builder.add_node(\"b2\", ReturnNodeValue(\"I'm B2\"))\n",
        "builder.add_node(\"c\", ReturnNodeValue(\"I'm C\"))\n",
        "builder.add_node(\"d\", ReturnNodeValue(\"I'm D\"))\n",
        "\n",
        "# Flow\n",
        "builder.add_edge(START, \"a\")\n",
        "builder.add_edge(\"a\", \"b\")\n",
        "builder.add_edge(\"a\", \"c\")\n",
        "builder.add_edge(\"b\", \"b2\")\n",
        "builder.add_edge([\"b2\", \"c\"], \"d\")\n",
        "builder.add_edge(\"d\", END)\n",
        "graph: CompiledStateGraph = builder.compile()\n",
        "\n",
        "display(Image(graph.get_graph().draw_mermaid_png()))"
      ]
    },
    {
      "cell_type": "code",
      "execution_count": 21,
      "id": "607dba2e-f9f0-4bc7-8ba6-684521a49bdc",
      "metadata": {
        "colab": {
          "base_uri": "https://localhost:8080/"
        },
        "id": "607dba2e-f9f0-4bc7-8ba6-684521a49bdc",
        "outputId": "fd5c0634-fbe4-46a3-d01f-f133b8991f42"
      },
      "outputs": [
        {
          "name": "stdout",
          "output_type": "stream",
          "text": [
            "Adding I'm A to []\n",
            "Passing Value I'm A\n",
            "State Value []\n",
            "Adding I'm B to [\"I'm A\"]\n",
            "Passing Value I'm B\n",
            "State Value [\"I'm A\"]\n",
            "Adding I'm C to [\"I'm A\"]\n",
            "Passing Value I'm C\n",
            "State Value [\"I'm A\"]\n",
            "Adding I'm B2 to [\"I'm A\", \"I'm B\", \"I'm C\"]\n",
            "Passing Value I'm B2\n",
            "State Value [\"I'm A\", \"I'm B\", \"I'm C\"]\n",
            "Adding I'm D to [\"I'm A\", \"I'm B\", \"I'm B2\", \"I'm C\"]\n",
            "Passing Value I'm D\n",
            "State Value [\"I'm A\", \"I'm B\", \"I'm B2\", \"I'm C\"]\n"
          ]
        },
        {
          "data": {
            "text/plain": [
              "{'state': [\"I'm A\", \"I'm B\", \"I'm B2\", \"I'm C\", \"I'm D\"]}"
            ]
          },
          "execution_count": 21,
          "metadata": {},
          "output_type": "execute_result"
        }
      ],
      "source": [
        "graph.invoke({\"state\": []})"
      ]
    },
    {
      "cell_type": "markdown",
      "id": "fb1714c0-e881-48e7-bcb8-a60016f0485e",
      "metadata": {
        "id": "fb1714c0-e881-48e7-bcb8-a60016f0485e"
      },
      "source": [
        "Now, the reducer sorts the updated state values!"
      ]
    },
    {
      "cell_type": "markdown",
      "id": "34e0750b-e6af-40d9-835c-c664da5a2d3b",
      "metadata": {
        "id": "34e0750b-e6af-40d9-835c-c664da5a2d3b"
      },
      "source": [
        "## Working with LLMs\n",
        "\n",
        "Now, lets add a realistic example!\n",
        "\n",
        "We want to gather context from two external sources (Wikipedia and Web-Seach) and have an LLM answer a question."
      ]
    },
    {
      "cell_type": "code",
      "execution_count": 28,
      "id": "e1e9d03c-cb41-415c-862d-c9616d5a2d07",
      "metadata": {
        "id": "e1e9d03c-cb41-415c-862d-c9616d5a2d07"
      },
      "outputs": [
        {
          "name": "stderr",
          "output_type": "stream",
          "text": [
            "c:\\Users\\devvs\\AppData\\Local\\Programs\\Python\\Python312\\Lib\\site-packages\\tqdm\\auto.py:21: TqdmWarning: IProgress not found. Please update jupyter and ipywidgets. See https://ipywidgets.readthedocs.io/en/stable/user_install.html\n",
            "  from .autonotebook import tqdm as notebook_tqdm\n"
          ]
        }
      ],
      "source": [
        "from langchain_google_genai import ChatGoogleGenerativeAI\n",
        "llm: ChatGoogleGenerativeAI = ChatGoogleGenerativeAI(model = \"gemini-1.5-flash\")\n"
      ]
    },
    {
      "cell_type": "code",
      "execution_count": 29,
      "id": "0f75cc78-d1a1-47a5-8648-bf5a79c883de",
      "metadata": {
        "id": "0f75cc78-d1a1-47a5-8648-bf5a79c883de"
      },
      "outputs": [],
      "source": [
        "class State(TypedDict):\n",
        "    question: str\n",
        "    answer: str\n",
        "    context: Annotated[list, operator.add]"
      ]
    },
    {
      "cell_type": "markdown",
      "id": "9e714ea8-095c-461a-98bc-ee782a84ef5c",
      "metadata": {
        "id": "9e714ea8-095c-461a-98bc-ee782a84ef5c"
      },
      "source": [
        "You can try different web search tools. [Tavily](https://tavily.com/) is one nice option to consider, but ensure your `TAVILY_API_KEY` is set."
      ]
    },
    {
      "cell_type": "code",
      "execution_count": 30,
      "id": "c8bb519a-d08a-4ec7-8f0b-2ce6a9bf7342",
      "metadata": {
        "colab": {
          "base_uri": "https://localhost:8080/"
        },
        "id": "c8bb519a-d08a-4ec7-8f0b-2ce6a9bf7342",
        "outputId": "51c15b99-a392-4933-b512-03623df671ac"
      },
      "outputs": [
        {
          "name": "stdout",
          "output_type": "stream",
          "text": [
            "env: TAVILY_API_KEY={userdata.get('TAVILY_API_KEY')}\n"
          ]
        }
      ],
      "source": [
        "# import os, getpass\n",
        "\n",
        "# %env TAVILY_API_KEY = {userdata.get('TAVILY_API_KEY')}\n",
        "\n",
        "# def _set_env(var: str):\n",
        "#     if not os.environ.get(var):\n",
        "#         os.environ[var] = getpass.getpass(f\"{var}: \")\n",
        "# _set_env(\"TAVILY_API_KEY\")"
      ]
    },
    {
      "cell_type": "code",
      "execution_count": 122,
      "id": "bfb4f56c-3334-4927-8ed8-62fd384ee43e",
      "metadata": {
        "colab": {
          "base_uri": "https://localhost:8080/",
          "height": 350
        },
        "id": "bfb4f56c-3334-4927-8ed8-62fd384ee43e",
        "outputId": "57ad0e6a-b07f-4860-f269-fbb5e07fd4c3"
      },
      "outputs": [
        {
          "data": {
            "image/jpeg": "[encoded data removed]",
            "text/plain": [
              "<IPython.core.display.Image object>"
            ]
          },
          "metadata": {},
          "output_type": "display_data"
        }
      ],
      "source": [
        "from langchain_core.messages import HumanMessage, SystemMessage\n",
        "from langchain_community.document_loaders import WikipediaLoader\n",
        "from langchain_community.tools.tavily_search import TavilySearchResults\n",
        "import requests\n",
        "from bs4 import BeautifulSoup\n",
        "from typing import List, Dict\n",
        "import time\n",
        "from urllib.parse import quote\n",
        "\n",
        "def search_web(state):\n",
        "\n",
        "    \"\"\" Retrieve docs from web search \"\"\"\n",
        "\n",
        "    # Search\n",
        "    tavily_search = TavilySearchResults(max_results=3)\n",
        "    search_docs = tavily_search.invoke(state['question'])\n",
        "\n",
        "     # Format\n",
        "    formatted_search_docs = \"\\n\\n---\\n\\n\".join(\n",
        "        [\n",
        "            f'<Document href=\"{doc[\"url\"]}\"/>\\n{doc[\"content\"]}\\n</Document>'\n",
        "            for doc in search_docs\n",
        "        ]\n",
        "    )\n",
        "\n",
        "    return {\"context\": [formatted_search_docs]}\n",
        "\n",
        "def search_wikipedia(state):\n",
        "\n",
        "    \"\"\" Retrieve docs from wikipedia \"\"\"\n",
        "\n",
        "    # Search\n",
        "    search_docs = WikipediaLoader(query=state['question'],\n",
        "                                  load_max_docs=1).load()\n",
        "\n",
        "     # Format\n",
        "    formatted_search_docs = \"\\n\\n---\\n\\n\".join(\n",
        "        [\n",
        "            f'<Document source=\"{doc.metadata[\"source\"]}\" page=\"{doc.metadata.get(\"page\", \"\")}\"/>\\n{doc.page_content}\\n</Document>'\n",
        "            for doc in search_docs\n",
        "        ]\n",
        "    )\n",
        "\n",
        "    return {\"context\": [formatted_search_docs]}\n",
        "\n",
        "\n",
        "def search_britannica(state: Dict) -> Dict:\n",
        "    \"\"\"\n",
        "    Retrieve documents from Britannica based on a search query with improved error handling\n",
        "    \"\"\"\n",
        "    \n",
        "    def get_britannica_results(query: str, max_results: int = 1) -> List[Dict]:\n",
        "        # Format the query for URL\n",
        "        encoded_query = quote(query)\n",
        "        search_url = f\"https://www.britannica.com/search?query={encoded_query}\"\n",
        "        \n",
        "        try:\n",
        "            # Add more complete headers to better mimic a browser\n",
        "            headers = {\n",
        "                'User-Agent': 'Mozilla/5.0 (Windows NT 10.0; Win64; x64) AppleWebKit/537.36 (KHTML, like Gecko) Chrome/91.0.4472.124 Safari/537.36',\n",
        "                'Accept': 'text/html,application/xhtml+xml,application/xml;q=0.9,image/webp,*/*;q=0.8',\n",
        "                'Accept-Language': 'en-US,en;q=0.5',\n",
        "                'Connection': 'keep-alive',\n",
        "            }\n",
        "            \n",
        "            # Get search results page\n",
        "            response = requests.get(search_url, headers=headers)\n",
        "            response.raise_for_status()\n",
        "            \n",
        "            # Print status code and URL for debugging\n",
        "            print(f\"Search URL: {search_url}\")\n",
        "            print(f\"Status Code: {response.status_code}\")\n",
        "            \n",
        "            # Parse the search results\n",
        "            soup = BeautifulSoup(response.text, 'html.parser')\n",
        "            \n",
        "            # Try different possible selectors for search results\n",
        "            search_results = (\n",
        "                soup.find('div', class_='search-results') or  # Try original selector\n",
        "                soup.find('div', class_='search-content') or  # Alternative class\n",
        "                soup.find('div', {'data-testid': 'search-results'}) or  # Possible data attribute\n",
        "                soup.find('ul', class_='list-unstyled') # Another common pattern\n",
        "            )\n",
        "            \n",
        "            if not search_results:\n",
        "                print(\"No search results container found. HTML structure:\")\n",
        "                print(soup.prettify()[:1000])  # Print first 1000 chars of HTML for debugging\n",
        "                return []\n",
        "            \n",
        "            # Find all article links\n",
        "            article_links = search_results.find_all('a', href=True)\n",
        "            \n",
        "            if not article_links:\n",
        "                print(\"No article links found in search results\")\n",
        "                return []\n",
        "                \n",
        "            documents = []\n",
        "            \n",
        "            # Process each article link\n",
        "            for link in article_links[:max_results]:\n",
        "                # Only process links that point to articles\n",
        "                if not link['href'].startswith('/'):\n",
        "                    continue\n",
        "                    \n",
        "                article_url = f\"https://www.britannica.com{link['href']}\"\n",
        "                print(f\"Fetching article: {article_url}\")\n",
        "                \n",
        "                # Get the article content\n",
        "                article_response = requests.get(article_url, headers=headers)\n",
        "                article_response.raise_for_status()\n",
        "                \n",
        "                article_soup = BeautifulSoup(article_response.text, 'html.parser')\n",
        "                \n",
        "                # Try different possible content selectors\n",
        "                content_div = (\n",
        "                    article_soup.find('div', class_='article-content') or\n",
        "                    article_soup.find('article') or\n",
        "                    article_soup.find('div', {'data-testid': 'article-content'})\n",
        "                )\n",
        "                \n",
        "                if content_div:\n",
        "                    # Get all paragraphs\n",
        "                    paragraphs = content_div.find_all('p')\n",
        "                    if paragraphs:\n",
        "                        content = ' '.join([p.get_text().strip() for p in paragraphs])\n",
        "                        \n",
        "                        # Get title with fallbacks\n",
        "                        title = (\n",
        "                            article_soup.find('h1', class_='document-title') or\n",
        "                            article_soup.find('h1') or\n",
        "                            article_soup.find('title')\n",
        "                        )\n",
        "                        title_text = title.get_text().strip() if title else \"Untitled\"\n",
        "                        \n",
        "                        documents.append({\n",
        "                            \"url\": article_url,\n",
        "                            \"title\": title_text,\n",
        "                            \"content\": content[:2000]  # Limit content length\n",
        "                        })\n",
        "                        print(f\"Successfully extracted content from: {article_url}\")\n",
        "                    else:\n",
        "                        print(f\"No paragraphs found in article: {article_url}\")\n",
        "                else:\n",
        "                    print(f\"No content div found in article: {article_url}\")\n",
        "                    \n",
        "                # # Add delay between requests\n",
        "                # time.sleep(1)\n",
        "            \n",
        "            return documents\n",
        "            \n",
        "        except requests.RequestException as e:\n",
        "            print(f\"Request error: {str(e)}\")\n",
        "            return []\n",
        "        except Exception as e:\n",
        "            print(f\"Unexpected error: {str(e)}\")\n",
        "            return []\n",
        "    \n",
        "    # Get the search results\n",
        "    search_docs = get_britannica_results(state['question'])\n",
        "    \n",
        "    if not search_docs:\n",
        "        print(\"No documents were retrieved from Britannica\")\n",
        "        return {\"context\": []}\n",
        "    \n",
        "    # Format the results\n",
        "    formatted_search_docs = \"\\n\\n---\\n\\n\".join(\n",
        "        [\n",
        "            f'<Document source=\"Britannica\" href=\"{doc[\"url\"]}\" title=\"{doc[\"title\"]}\"/>\\n{doc[\"content\"]}\\n</Document>'\n",
        "            for doc in search_docs\n",
        "        ]\n",
        "    )\n",
        "    \n",
        "    return {\"context\": [formatted_search_docs]}\n",
        "\n",
        "def generate_answer(state):\n",
        "\n",
        "    \"\"\" Node to answer a question \"\"\"\n",
        "\n",
        "    # Get state\n",
        "    context = state[\"context\"]\n",
        "    question = state[\"question\"]\n",
        "\n",
        "    # Template\n",
        "    answer_template = \"\"\"You must answer the following question using the following context.\\nQUESTION: {question} \\nCONTEXT: {context}\"\"\"\n",
        "    answer_instructions = answer_template.format(question=question,\n",
        "                                                       context=context)\n",
        "\n",
        "    # Answer\n",
        "    answer = llm.invoke([SystemMessage(content=answer_instructions)]+[HumanMessage(content=f\"Answer the question.\")])\n",
        "\n",
        "    # Append it to state\n",
        "    return {\"answer\": answer}\n",
        "\n",
        "# Add nodes\n",
        "builder: StateGraph = StateGraph(State)\n",
        "\n",
        "# Initialize each node with node_secret\n",
        "builder.add_node(\"search_web\",search_web)\n",
        "builder.add_node(\"search_wikipedia\", search_wikipedia)\n",
        "builder.add_node(\"search_britannica\", search_britannica)\n",
        "builder.add_node(\"generate_answer\", generate_answer)\n",
        "\n",
        "# Flow\n",
        "builder.add_edge(START, \"search_wikipedia\")\n",
        "builder.add_edge(START, \"search_web\")\n",
        "builder.add_edge(START, \"search_britannica\")\n",
        "builder.add_edge(\"search_wikipedia\", \"generate_answer\")\n",
        "builder.add_edge(\"search_britannica\", \"generate_answer\")\n",
        "builder.add_edge(\"search_web\", \"generate_answer\")\n",
        "builder.add_edge(\"generate_answer\", END)\n",
        "graph: CompiledStateGraph = builder.compile()\n",
        "\n",
        "display(Image(graph.get_graph().draw_mermaid_png()))"
      ]
    },
    {
      "cell_type": "code",
      "execution_count": 143,
      "id": "fa544ca0-10af-491e-ad7a-477d004413eb",
      "metadata": {
        "colab": {
          "base_uri": "https://localhost:8080/",
          "height": 107
        },
        "id": "fa544ca0-10af-491e-ad7a-477d004413eb",
        "outputId": "13748ef1-6ff0-4766-f8e0-14c34578d899"
      },
      "outputs": [
        {
          "name": "stdout",
          "output_type": "stream",
          "text": [
            "Search URL: https://www.britannica.com/search?query=what%20are%20AI%20Agents%3F\n",
            "Status Code: 200\n",
            "Fetching article: https://www.britannica.com/topic/list-of-sculptors-2019702\n",
            "Successfully extracted content from: https://www.britannica.com/topic/list-of-sculptors-2019702\n",
            "('An AI agent is a software program that can **interact with its '\n",
            " 'environment**, **collect data**, and **use that data to perform tasks** in '\n",
            " 'order to achieve predetermined goals. These goals are set by humans, but the '\n",
            " 'AI agent independently chooses the best actions to take to achieve them. \\n'\n",
            " '\\n'\n",
            " 'Here are some key characteristics of AI agents:\\n'\n",
            " '\\n'\n",
            " '* **Autonomy:** They can operate independently, making decisions and taking '\n",
            " 'actions without direct human intervention.\\n'\n",
            " '* **Goal-oriented:** They are designed to achieve specific objectives, '\n",
            " \"whether it's completing a task, optimizing a process, or providing \"\n",
            " 'information.\\n'\n",
            " '* **Learning and Adaptation:** Many AI agents can learn from their '\n",
            " 'experiences, improving their performance over time.\\n'\n",
            " '* **Environment Interaction:** They can perceive and interact with their '\n",
            " \"environment, whether it's a physical world or a digital space.\\n\"\n",
            " '\\n'\n",
            " 'Think of them as **intelligent assistants** that can handle tasks and make '\n",
            " 'decisions based on their knowledge and understanding of the world. \\n')\n"
          ]
        }
      ],
      "source": [
        "from pprint import pprint\n",
        "result = graph.invoke({\"question\": \"what are AI Agents?\"})\n",
        "pprint(result['answer'].content)"
      ]
    },
    {
      "cell_type": "markdown",
      "id": "3dbbecab-80eb-4f0c-b43a-45542fc0ae9c",
      "metadata": {
        "id": "3dbbecab-80eb-4f0c-b43a-45542fc0ae9c"
      },
      "source": [
        "## Using with LangGraph API\n",
        "\n",
        "--\n",
        "\n",
        "**⚠️ DISCLAIMER**\n",
        "\n",
        "*Running Studio currently requires a Mac. If you are not using a Mac, then skip this step.*\n",
        "\n",
        "*Also, if you are running this notebook in CoLab, then skip this step.*\n",
        "\n",
        "--\n",
        "\n",
        "Let's load our the above graph in the Studio UI, which uses `module-4/studio/parallelization.py` set in `module-4/studio/langgraph.json`.\n",
        "\n",
        "![Screenshot 2024-08-29 at 3.05.13 PM.png](https://cdn.prod.website-files.com/65b8cd72835ceeacd4449a53/66dbb10f43c3d4df239e0278_parallelization-1.png)\n",
        "\n",
        "Let's get the URL for the local deployment from Studio."
      ]
    },
    {
      "cell_type": "code",
      "execution_count": null,
      "id": "4bc8ad8d-1365-4801-a8a5-b85cd4965119",
      "metadata": {
        "id": "4bc8ad8d-1365-4801-a8a5-b85cd4965119"
      },
      "outputs": [],
      "source": [
        "import platform\n",
        "\n",
        "if 'google.colab' in str(get_ipython()) or platform.system() != 'Darwin':\n",
        "    raise Exception(\"Unfortunately LangGraph Studio is currently not supported on Google Colab or requires a Mac\")"
      ]
    },
    {
      "cell_type": "code",
      "execution_count": null,
      "id": "23919dc9-27d8-4d10-b91d-24acdf8c0fb9",
      "metadata": {
        "id": "23919dc9-27d8-4d10-b91d-24acdf8c0fb9"
      },
      "outputs": [],
      "source": [
        "from langgraph_sdk import get_client\n",
        "client = get_client(url=\"http://localhost:63082\")"
      ]
    },
    {
      "cell_type": "code",
      "execution_count": null,
      "id": "ff35e68f-4017-4f45-93cf-ddbb355a0bc1",
      "metadata": {
        "id": "ff35e68f-4017-4f45-93cf-ddbb355a0bc1",
        "outputId": "b2de58ae-dcca-470c-a103-1b148f99a66c"
      },
      "outputs": [
        {
          "name": "stdout",
          "output_type": "stream",
          "text": [
            "Nvidia's Q2 2024 earnings were exceptionally strong. The company reported $13.5 billion in revenue, significantly surpassing expectations, and made $6 billion in pure profit. The earnings per share were $2.70, adjusted, compared to the $2.09 per share expected by analysts. The gross profit margins were 75.1%, and the adjusted earnings per share were 68 cents. The strong performance was driven by unprecedented demand for its generative AI chips.\n"
          ]
        }
      ],
      "source": [
        "thread = await client.threads.create()\n",
        "input_question = {\"question\": \"How were Nvidia Q2 2024 earnings?\"}\n",
        "async for event in client.runs.stream(thread[\"thread_id\"],\n",
        "                                      assistant_id=\"parallelization\",\n",
        "                                      input=input_question,\n",
        "                                      stream_mode=\"values\"):\n",
        "    # Check if answer has been added to state\n",
        "    answer = event.data.get('answer', None)\n",
        "    if answer:\n",
        "        print(answer['content'])"
      ]
    }
  ],
  "metadata": {
    "colab": {
      "provenance": []
    },
    "kernelspec": {
      "display_name": "Python 3",
      "language": "python",
      "name": "python3"
    },
    "language_info": {
      "codemirror_mode": {
        "name": "ipython",
        "version": 3
      },
      "file_extension": ".py",
      "mimetype": "text/x-python",
      "name": "python",
      "nbconvert_exporter": "python",
      "pygments_lexer": "ipython3",
      "version": "3.12.6"
    }
  },
  "nbformat": 4,
  "nbformat_minor": 5
}
